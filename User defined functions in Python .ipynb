{
 "cells": [
  {
   "cell_type": "markdown",
   "metadata": {},
   "source": [
    "# Writing own functions"
   ]
  },
  {
   "cell_type": "code",
   "execution_count": 2,
   "metadata": {},
   "outputs": [
    {
     "name": "stdout",
     "output_type": "stream",
     "text": [
      "Hello\n"
     ]
    }
   ],
   "source": [
    "# Function without parameter and no return: \n",
    "def hello():\n",
    "    '''Prints Hello when it is called'''\n",
    "    print('Hello')\n",
    "hello() # Calling the function."
   ]
  },
  {
   "cell_type": "code",
   "execution_count": 3,
   "metadata": {},
   "outputs": [
    {
     "data": {
      "text/plain": [
       "'Hi'"
      ]
     },
     "execution_count": 3,
     "metadata": {},
     "output_type": "execute_result"
    }
   ],
   "source": [
    "# Function with return values: \n",
    "def hi():\n",
    "    \"\"\"Returns hi when called\"\"\"\n",
    "    return('Hi')\n",
    "hi=hi()\n",
    "hi"
   ]
  },
  {
   "cell_type": "code",
   "execution_count": 4,
   "metadata": {},
   "outputs": [
    {
     "data": {
      "text/plain": [
       "(8, 9)"
      ]
     },
     "execution_count": 4,
     "metadata": {},
     "output_type": "execute_result"
    }
   ],
   "source": [
    "# Functions with multiple parameters and returns the value:\n",
    "def raise_value(num1,num2):\n",
    "    '''Raises the power of num1 by num2 and vice versa'''\n",
    "    first_value=num1**num2\n",
    "    second_value=num2**num1\n",
    "    return(first_value,second_value)\n",
    "answer=raise_value(2,3)\n",
    "answer"
   ]
  },
  {
   "cell_type": "markdown",
   "metadata": {},
   "source": [
    "### Tuples\n",
    "1. Immutable\n",
    "2. Ordered\n",
    "3. Can contain any data types "
   ]
  },
  {
   "cell_type": "code",
   "execution_count": 14,
   "metadata": {},
   "outputs": [
    {
     "data": {
      "text/plain": [
       "('When', 8, 7, 'Hello', 'Bye')"
      ]
     },
     "execution_count": 14,
     "metadata": {},
     "output_type": "execute_result"
    }
   ],
   "source": [
    "tuple1=('When',8,7,'Hello','Bye')\n",
    "tuple1"
   ]
  },
  {
   "cell_type": "code",
   "execution_count": 16,
   "metadata": {},
   "outputs": [
    {
     "name": "stdout",
     "output_type": "stream",
     "text": [
      "[7, 'Hello', 'Bye']\n",
      "<class 'list'>\n",
      "8\n",
      "<class 'int'>\n",
      "When\n",
      "<class 'str'>\n"
     ]
    }
   ],
   "source": [
    "# Unpacking the tuples: \n",
    "f,s,*t=tuple1\n",
    "print(t) # turns into list\n",
    "print(type(t))\n",
    "print(s)\n",
    "print(type(s))\n",
    "print(f)\n",
    "print(type(f))"
   ]
  },
  {
   "cell_type": "code",
   "execution_count": 20,
   "metadata": {},
   "outputs": [
    {
     "name": "stdout",
     "output_type": "stream",
     "text": [
      "<class 'pandas.core.frame.DataFrame'>\n",
      "RangeIndex: 100 entries, 0 to 99\n",
      "Data columns (total 31 columns):\n",
      " #   Column                     Non-Null Count  Dtype  \n",
      "---  ------                     --------------  -----  \n",
      " 0   contributors               0 non-null      float64\n",
      " 1   coordinates                0 non-null      float64\n",
      " 2   created_at                 100 non-null    object \n",
      " 3   entities                   100 non-null    object \n",
      " 4   extended_entities          20 non-null     object \n",
      " 5   favorite_count             100 non-null    int64  \n",
      " 6   favorited                  100 non-null    bool   \n",
      " 7   filter_level               100 non-null    object \n",
      " 8   geo                        0 non-null      float64\n",
      " 9   id                         100 non-null    int64  \n",
      " 10  id_str                     100 non-null    int64  \n",
      " 11  in_reply_to_screen_name    11 non-null     object \n",
      " 12  in_reply_to_status_id      8 non-null      float64\n",
      " 13  in_reply_to_status_id_str  8 non-null      float64\n",
      " 14  in_reply_to_user_id        11 non-null     float64\n",
      " 15  in_reply_to_user_id_str    11 non-null     float64\n",
      " 16  is_quote_status            100 non-null    bool   \n",
      " 17  lang                       100 non-null    object \n",
      " 18  place                      3 non-null      object \n",
      " 19  possibly_sensitive         72 non-null     object \n",
      " 20  quoted_status              14 non-null     object \n",
      " 21  quoted_status_id           14 non-null     float64\n",
      " 22  quoted_status_id_str       14 non-null     float64\n",
      " 23  retweet_count              100 non-null    int64  \n",
      " 24  retweeted                  100 non-null    bool   \n",
      " 25  retweeted_status           62 non-null     object \n",
      " 26  source                     100 non-null    object \n",
      " 27  text                       100 non-null    object \n",
      " 28  timestamp_ms               100 non-null    int64  \n",
      " 29  truncated                  100 non-null    bool   \n",
      " 30  user                       100 non-null    object \n",
      "dtypes: bool(4), float64(9), int64(5), object(13)\n",
      "memory usage: 21.6+ KB\n"
     ]
    }
   ],
   "source": [
    "import pandas as pd\n",
    "tweets=pd.read_csv('Data/tweets.csv')\n",
    "tweets.info()"
   ]
  },
  {
   "cell_type": "code",
   "execution_count": 25,
   "metadata": {},
   "outputs": [],
   "source": [
    "lang=tweets['lang']"
   ]
  },
  {
   "cell_type": "code",
   "execution_count": 27,
   "metadata": {},
   "outputs": [
    {
     "name": "stdout",
     "output_type": "stream",
     "text": [
      "{'en': 97, 'et': 1, 'und': 2}\n"
     ]
    }
   ],
   "source": [
    "# Counting the number of entries in lang column:\n",
    "langs_count=dict()\n",
    "for entry in lang:\n",
    "    if entry in langs_count.keys():\n",
    "        langs_count[entry]+=1\n",
    "    else:\n",
    "        langs_count[entry]=1\n",
    "print(langs_count)"
   ]
  },
  {
   "cell_type": "code",
   "execution_count": 34,
   "metadata": {},
   "outputs": [
    {
     "name": "stdout",
     "output_type": "stream",
     "text": [
      "{'en': 97, 'et': 1, 'und': 2}\n"
     ]
    }
   ],
   "source": [
    "# Using user defined function to count the entries in lang column:\n",
    "def count_entries(df,col_name):\n",
    "    lang_count=dict()\n",
    "    col=df[col_name]\n",
    "    for entry in col:\n",
    "        if entry in lang_count.keys():\n",
    "            lang_count[entry]+=1\n",
    "        else:\n",
    "            lang_count[entry]=1\n",
    "    return lang_count\n",
    "count=count_entries(tweets,'lang')\n",
    "print(count)"
   ]
  },
  {
   "cell_type": "markdown",
   "metadata": {},
   "source": [
    "### Scope\n",
    "part of the program where the object or the code can be found \n",
    "1. Global scope: object is in the main function. \n",
    "2. Local scope: object is defined in the user defined function body. \n",
    "3. Built in scope: object is pre defined in the builtin module.\n",
    "4. Enclosed function in scope: Inside the enclosing function."
   ]
  },
  {
   "cell_type": "code",
   "execution_count": 39,
   "metadata": {},
   "outputs": [
    {
     "name": "stdout",
     "output_type": "stream",
     "text": [
      "144\n",
      "144\n"
     ]
    }
   ],
   "source": [
    "# global keyword can be used to alter the variable in the user defined function:\n",
    "number=12\n",
    "def square(h):\n",
    "    \"\"\"Returns the value of the value given in the number variable.\"\"\"\n",
    "    global number\n",
    "    number=number**2\n",
    "    return number\n",
    "total=square(23)\n",
    "print(total)\n",
    "print(number) # Value for the number is changed after altering it using the global keyword."
   ]
  },
  {
   "cell_type": "code",
   "execution_count": 40,
   "metadata": {},
   "outputs": [
    {
     "data": {
      "text/plain": [
       "27"
      ]
     },
     "execution_count": 40,
     "metadata": {},
     "output_type": "execute_result"
    }
   ],
   "source": [
    "# non local keyword can be used to alter the variable in the enclosing function:\n",
    "number=34\n",
    "def raises(i):\n",
    "    \"\"\"Returns the inner function\"\"\"\n",
    "    def inner(u):\n",
    "        val=i**u\n",
    "        return val\n",
    "    return inner\n",
    "cube=raises(3)\n",
    "cube(3)"
   ]
  },
  {
   "cell_type": "code",
   "execution_count": 44,
   "metadata": {},
   "outputs": [
    {
     "data": {
      "text/plain": [
       "30"
      ]
     },
     "execution_count": 44,
     "metadata": {},
     "output_type": "execute_result"
    }
   ],
   "source": [
    "# Using non local: \n",
    "def change():\n",
    "    n=20\n",
    "    def inner():\n",
    "        nonlocal n\n",
    "        n=30\n",
    "        return n\n",
    "    return inner\n",
    "changed=change()\n",
    "changed()\n",
    "\n",
    "   "
   ]
  },
  {
   "cell_type": "markdown",
   "metadata": {},
   "source": [
    "### Default and flexible arguments "
   ]
  },
  {
   "cell_type": "code",
   "execution_count": 8,
   "metadata": {},
   "outputs": [
    {
     "name": "stdout",
     "output_type": "stream",
     "text": [
      "Hello Nusan\n",
      "Hello NusanNusanNusanNusanNusan\n"
     ]
    }
   ],
   "source": [
    "def hi(name,times=1): #Default parameters \n",
    "    no_of_times=(name*times)\n",
    "    return ('Hello' + ' ' + str(no_of_times))\n",
    "one=hi('Nusan')\n",
    "two=hi('Nusan',5)\n",
    "\n",
    "print(one)\n",
    "print(two)"
   ]
  },
  {
   "cell_type": "code",
   "execution_count": 22,
   "metadata": {},
   "outputs": [
    {
     "name": "stdout",
     "output_type": "stream",
     "text": [
      "0:Nusan\n",
      "1:Nutan\n",
      "2:Prapti\n"
     ]
    },
    {
     "data": {
      "text/plain": [
       "NoneType"
      ]
     },
     "execution_count": 22,
     "metadata": {},
     "output_type": "execute_result"
    }
   ],
   "source": [
    "def hiya(*args): # Store any no.of values given in a tuple.\n",
    "    for index, i in enumerate(args):\n",
    "        print(str(index) +  ':' + i)\n",
    "    return \n",
    "hu=hiya('Nusan','Nutan','Prapti')\n",
    "type(hu)\n",
    "\n"
   ]
  },
  {
   "cell_type": "code",
   "execution_count": 26,
   "metadata": {},
   "outputs": [
    {
     "data": {
      "text/plain": [
       "{'name': 'Nusan', 'phone': 456456, 'address': 'US'}"
      ]
     },
     "execution_count": 26,
     "metadata": {},
     "output_type": "execute_result"
    }
   ],
   "source": [
    "def dict0(**kwargs): # turns values into dictionaries\n",
    "    return kwargs \n",
    "dicti=dict0(name='Nusan',phone=456456,address='US')\n",
    "dicti"
   ]
  },
  {
   "cell_type": "markdown",
   "metadata": {},
   "source": [
    "### Lambda function"
   ]
  },
  {
   "cell_type": "markdown",
   "metadata": {},
   "source": [
    "1. They are defined with the keyword lambda. \n",
    "2. Makes the code shorter and concise. \n",
    "3. Used with anonymous functions: map, filter and reduce."
   ]
  },
  {
   "cell_type": "code",
   "execution_count": 30,
   "metadata": {},
   "outputs": [
    {
     "data": {
      "text/plain": [
       "1024"
      ]
     },
     "execution_count": 30,
     "metadata": {},
     "output_type": "execute_result"
    }
   ],
   "source": [
    "squaring=lambda x,y: x**y\n",
    "squaring(4,5)"
   ]
  },
  {
   "cell_type": "code",
   "execution_count": 32,
   "metadata": {},
   "outputs": [
    {
     "data": {
      "text/plain": [
       "'YOHEY'"
      ]
     },
     "execution_count": 32,
     "metadata": {},
     "output_type": "execute_result"
    }
   ],
   "source": [
    "concatenating=lambda x,y:x+y\n",
    "concatenating('YO',\"HEY\")"
   ]
  },
  {
   "cell_type": "code",
   "execution_count": 35,
   "metadata": {},
   "outputs": [
    {
     "data": {
      "text/plain": [
       "[4, 9, 16, 25, 36, 49, 64, 81]"
      ]
     },
     "execution_count": 35,
     "metadata": {},
     "output_type": "execute_result"
    }
   ],
   "source": [
    "# Map function: # Performs operations on every single element.\n",
    "x=[2,3,4,5,6,7,8,9]\n",
    "y=map(lambda x:x**2,x)\n",
    "y\n",
    "list(y)"
   ]
  },
  {
   "cell_type": "code",
   "execution_count": 39,
   "metadata": {},
   "outputs": [
    {
     "name": "stdout",
     "output_type": "stream",
     "text": [
      "[2, 3, 4, 5, 6, 7, 8, 9]\n"
     ]
    },
    {
     "data": {
      "text/plain": [
       "[6, 7, 8, 9]"
      ]
     },
     "execution_count": 39,
     "metadata": {},
     "output_type": "execute_result"
    }
   ],
   "source": [
    "#Filer function: filters out elements that do not satisfy certain condition.\n",
    "print(x)\n",
    "y1=filter(lambda element:element>5,x)\n",
    "list(y1)"
   ]
  },
  {
   "cell_type": "code",
   "execution_count": 44,
   "metadata": {},
   "outputs": [
    {
     "name": "stdout",
     "output_type": "stream",
     "text": [
      "[2, 3, 4, 5, 6, 7, 8, 9]\n"
     ]
    },
    {
     "data": {
      "text/plain": [
       "44"
      ]
     },
     "execution_count": 44,
     "metadata": {},
     "output_type": "execute_result"
    }
   ],
   "source": [
    "#reduce function: Returns a single value by taking two arguments.\n",
    "from functools import reduce\n",
    "print(x)\n",
    "y2=reduce(lambda x1,x2:x1+x2,x)\n",
    "y2"
   ]
  },
  {
   "cell_type": "markdown",
   "metadata": {},
   "source": [
    "### Error Handling\n",
    "1. try: testing out the part where we feel there is an error.\n",
    "2. except: catching the error\n",
    "3. raise: raising an error"
   ]
  },
  {
   "cell_type": "code",
   "execution_count": 46,
   "metadata": {},
   "outputs": [
    {
     "ename": "ValueError",
     "evalue": "Please make sure that the values given are positive integer",
     "output_type": "error",
     "traceback": [
      "\u001b[1;31m---------------------------------------------------------------------------\u001b[0m",
      "\u001b[1;31mValueError\u001b[0m                                Traceback (most recent call last)",
      "\u001b[1;32m<ipython-input-46-a25c73b9d0c7>\u001b[0m in \u001b[0;36m<module>\u001b[1;34m\u001b[0m\n\u001b[0;32m      9\u001b[0m     \u001b[1;32mexcept\u001b[0m\u001b[1;33m:\u001b[0m\u001b[1;33m\u001b[0m\u001b[1;33m\u001b[0m\u001b[0m\n\u001b[0;32m     10\u001b[0m         \u001b[0mprint\u001b[0m\u001b[1;33m(\u001b[0m\u001b[1;34m'Please make sure that the values given are integers or floats'\u001b[0m\u001b[1;33m)\u001b[0m\u001b[1;33m\u001b[0m\u001b[1;33m\u001b[0m\u001b[0m\n\u001b[1;32m---> 11\u001b[1;33m \u001b[0manswer\u001b[0m\u001b[1;33m=\u001b[0m\u001b[0mraise_value\u001b[0m\u001b[1;33m(\u001b[0m\u001b[1;33m-\u001b[0m\u001b[1;36m1\u001b[0m\u001b[1;33m,\u001b[0m\u001b[1;36m3\u001b[0m\u001b[1;33m)\u001b[0m\u001b[1;33m\u001b[0m\u001b[1;33m\u001b[0m\u001b[0m\n\u001b[0m\u001b[0;32m     12\u001b[0m \u001b[0manswer\u001b[0m\u001b[1;33m\u001b[0m\u001b[1;33m\u001b[0m\u001b[0m\n",
      "\u001b[1;32m<ipython-input-46-a25c73b9d0c7>\u001b[0m in \u001b[0;36mraise_value\u001b[1;34m(num1, num2)\u001b[0m\n\u001b[0;32m      2\u001b[0m     \u001b[1;34m'''Raises the power of num1 by num2 and vice versa'''\u001b[0m\u001b[1;33m\u001b[0m\u001b[1;33m\u001b[0m\u001b[0m\n\u001b[0;32m      3\u001b[0m     \u001b[1;32mif\u001b[0m \u001b[0mnum1\u001b[0m\u001b[1;33m<=\u001b[0m\u001b[1;36m0\u001b[0m \u001b[1;32mor\u001b[0m \u001b[0mnum2\u001b[0m\u001b[1;33m<=\u001b[0m\u001b[1;36m0\u001b[0m\u001b[1;33m:\u001b[0m\u001b[1;33m\u001b[0m\u001b[1;33m\u001b[0m\u001b[0m\n\u001b[1;32m----> 4\u001b[1;33m         \u001b[1;32mraise\u001b[0m \u001b[0mValueError\u001b[0m \u001b[1;33m(\u001b[0m\u001b[1;34m'Please make sure that the values given are positive integer'\u001b[0m\u001b[1;33m)\u001b[0m\u001b[1;33m\u001b[0m\u001b[1;33m\u001b[0m\u001b[0m\n\u001b[0m\u001b[0;32m      5\u001b[0m     \u001b[1;32mtry\u001b[0m\u001b[1;33m:\u001b[0m\u001b[1;33m\u001b[0m\u001b[1;33m\u001b[0m\u001b[0m\n\u001b[0;32m      6\u001b[0m         \u001b[0mfirst_value\u001b[0m\u001b[1;33m=\u001b[0m\u001b[0mnum1\u001b[0m\u001b[1;33m**\u001b[0m\u001b[0mnum2\u001b[0m\u001b[1;33m\u001b[0m\u001b[1;33m\u001b[0m\u001b[0m\n",
      "\u001b[1;31mValueError\u001b[0m: Please make sure that the values given are positive integer"
     ]
    }
   ],
   "source": [
    "def raise_value(num1,num2):\n",
    "    '''Raises the power of num1 by num2 and vice versa'''\n",
    "    if num1<=0 or num2<=0:\n",
    "        raise ValueError ('Please make sure that the values given are positive integer')\n",
    "    try:\n",
    "        first_value=num1**num2\n",
    "        second_value=num2**num1\n",
    "        return(first_value,second_value)\n",
    "    except: \n",
    "        print('Please make sure that the values given are integers or floats')\n",
    "answer=raise_value(-1,3)\n",
    "answer"
   ]
  },
  {
   "cell_type": "code",
   "execution_count": null,
   "metadata": {},
   "outputs": [],
   "source": []
  }
 ],
 "metadata": {
  "kernelspec": {
   "display_name": "Python 3",
   "language": "python",
   "name": "python3"
  },
  "language_info": {
   "codemirror_mode": {
    "name": "ipython",
    "version": 3
   },
   "file_extension": ".py",
   "mimetype": "text/x-python",
   "name": "python",
   "nbconvert_exporter": "python",
   "pygments_lexer": "ipython3",
   "version": "3.8.3"
  }
 },
 "nbformat": 4,
 "nbformat_minor": 4
}
