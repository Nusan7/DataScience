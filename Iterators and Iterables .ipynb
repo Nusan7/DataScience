{
 "cells": [
  {
   "cell_type": "markdown",
   "metadata": {},
   "source": [
    "## Iterators \n",
    "1. Iterables: Objects that can be iterated. \n",
    "2. Iterator: Object that allows iterables to iterate. \n"
   ]
  },
  {
   "cell_type": "code",
   "execution_count": 5,
   "metadata": {},
   "outputs": [
    {
     "data": {
      "text/plain": [
       "'bag'"
      ]
     },
     "execution_count": 5,
     "metadata": {},
     "output_type": "execute_result"
    }
   ],
   "source": [
    "items=['bag','food','bed','phone','computer']\n",
    "items_iterate=iter(items) # Creating an iterator object from the iterable.\n",
    "next(items_iterate)"
   ]
  },
  {
   "cell_type": "code",
   "execution_count": 6,
   "metadata": {},
   "outputs": [
    {
     "data": {
      "text/plain": [
       "'food'"
      ]
     },
     "execution_count": 6,
     "metadata": {},
     "output_type": "execute_result"
    }
   ],
   "source": [
    "next(items_iterate)\n"
   ]
  },
  {
   "cell_type": "code",
   "execution_count": 7,
   "metadata": {},
   "outputs": [
    {
     "name": "stdout",
     "output_type": "stream",
     "text": [
      "bed phone computer\n"
     ]
    }
   ],
   "source": [
    "print(*items_iterate)"
   ]
  },
  {
   "cell_type": "code",
   "execution_count": 10,
   "metadata": {},
   "outputs": [
    {
     "name": "stdout",
     "output_type": "stream",
     "text": [
      "0\n",
      "1\n"
     ]
    }
   ],
   "source": [
    "num=iter(range(0,2000))\n",
    "print(next(num))\n",
    "print(next(num))\n"
   ]
  },
  {
   "cell_type": "code",
   "execution_count": 14,
   "metadata": {},
   "outputs": [
    {
     "name": "stdout",
     "output_type": "stream",
     "text": [
      "0 : bag\n",
      "1 : food\n",
      "2 : bed\n",
      "3 : phone\n",
      "4 : computer\n"
     ]
    }
   ],
   "source": [
    "# Enumerate: \n",
    "for index,item in enumerate(items):\n",
    "    print(f'{index} : {item}')"
   ]
  },
  {
   "cell_type": "code",
   "execution_count": 25,
   "metadata": {},
   "outputs": [
    {
     "name": "stdout",
     "output_type": "stream",
     "text": [
      "makeup is in bag\n",
      "banana is in food\n",
      "monster is in bed\n",
      "Google is in phone\n",
      "app is in computer\n"
     ]
    }
   ],
   "source": [
    "# zip: \n",
    "items\n",
    "stuff=['makeup','banana','monster','Google','app']\n",
    "z=zip(items,stuff)\n",
    "type(z)\n",
    "for z1,z2 in z:\n",
    "    print(f'{z2} is in {z1}')"
   ]
  },
  {
   "cell_type": "code",
   "execution_count": 44,
   "metadata": {},
   "outputs": [
    {
     "name": "stdout",
     "output_type": "stream",
     "text": [
      "True\n",
      "True\n"
     ]
    },
    {
     "data": {
      "text/plain": [
       "['bag', 'food', 'bed', 'phone', 'computer']"
      ]
     },
     "execution_count": 44,
     "metadata": {},
     "output_type": "execute_result"
    }
   ],
   "source": [
    "#Unpacking the tuples:\n",
    "z=zip(items,stuff)\n",
    "z6=zip(*z)\n",
    "z7,z8=z6\n",
    "print(list(z7)==items)\n",
    "print(list(z8)==stuff)\n",
    "z7\n",
    "items\n",
    "\n"
   ]
  },
  {
   "cell_type": "markdown",
   "metadata": {},
   "source": [
    "### List Comprehensions and Generators\n",
    "1. Requires iterables.\n",
    "2. Iterator object \n",
    "3. Output Expression"
   ]
  },
  {
   "cell_type": "code",
   "execution_count": 50,
   "metadata": {},
   "outputs": [
    {
     "data": {
      "text/plain": [
       "list"
      ]
     },
     "execution_count": 50,
     "metadata": {},
     "output_type": "execute_result"
    }
   ],
   "source": [
    "nums=[2,3,4,5,6,7,8,9]\n",
    "nums_10=[i+10 for i in nums] # List comprehension \n",
    "nums_10\n",
    "type(nums_10)"
   ]
  },
  {
   "cell_type": "code",
   "execution_count": 52,
   "metadata": {},
   "outputs": [
    {
     "data": {
      "text/plain": [
       "['bags', 'foods', 'beds', 'phones', 'computers']"
      ]
     },
     "execution_count": 52,
     "metadata": {},
     "output_type": "execute_result"
    }
   ],
   "source": [
    "items\n",
    "items_s=[i+'s' for i in items] # List comprehension.\n",
    "items_s"
   ]
  },
  {
   "cell_type": "code",
   "execution_count": 55,
   "metadata": {},
   "outputs": [
    {
     "data": {
      "text/plain": [
       "[(0, 10),\n",
       " (0, 20),\n",
       " (0, 30),\n",
       " (0, 40),\n",
       " (0, 50),\n",
       " (0, 60),\n",
       " (1, 10),\n",
       " (1, 20),\n",
       " (1, 30),\n",
       " (1, 40),\n",
       " (1, 50),\n",
       " (1, 60),\n",
       " (2, 10),\n",
       " (2, 20),\n",
       " (2, 30),\n",
       " (2, 40),\n",
       " (2, 50),\n",
       " (2, 60),\n",
       " (3, 10),\n",
       " (3, 20),\n",
       " (3, 30),\n",
       " (3, 40),\n",
       " (3, 50),\n",
       " (3, 60),\n",
       " (4, 10),\n",
       " (4, 20),\n",
       " (4, 30),\n",
       " (4, 40),\n",
       " (4, 50),\n",
       " (4, 60),\n",
       " (5, 10),\n",
       " (5, 20),\n",
       " (5, 30),\n",
       " (5, 40),\n",
       " (5, 50),\n",
       " (5, 60)]"
      ]
     },
     "execution_count": 55,
     "metadata": {},
     "output_type": "execute_result"
    }
   ],
   "source": [
    "g=[0,1,2,3,4,5]\n",
    "h=[10,20,30,40,50,60]\n",
    "lists_s=[(gi,hi)for gi in g for hi in h]\n",
    "lists_s"
   ]
  },
  {
   "cell_type": "code",
   "execution_count": 60,
   "metadata": {},
   "outputs": [
    {
     "data": {
      "text/plain": [
       "[[0, 1, 2, 3, 4],\n",
       " [0, 1, 2, 3, 4],\n",
       " [0, 1, 2, 3, 4],\n",
       " [0, 1, 2, 3, 4],\n",
       " [0, 1, 2, 3, 4]]"
      ]
     },
     "execution_count": 60,
     "metadata": {},
     "output_type": "execute_result"
    }
   ],
   "source": [
    "# Creating a matrix: \n",
    "matrix=[[col for col in range(5)] for row in range(5)]\n",
    "matrix"
   ]
  },
  {
   "cell_type": "code",
   "execution_count": 61,
   "metadata": {},
   "outputs": [
    {
     "data": {
      "text/plain": [
       "[6, 7, 8, 9]"
      ]
     },
     "execution_count": 61,
     "metadata": {},
     "output_type": "execute_result"
    }
   ],
   "source": [
    "# Using conditionals with list comprehensions: \n",
    "nums=[2,3,4,5,6,7,8,9] #if \n",
    "nums_10=[i for i in nums if i>5] # List comprehension \n",
    "nums_10"
   ]
  },
  {
   "cell_type": "code",
   "execution_count": 64,
   "metadata": {},
   "outputs": [
    {
     "data": {
      "text/plain": [
       "[0, 0, 0, 0, 6, 7, 8, 9]"
      ]
     },
     "execution_count": 64,
     "metadata": {},
     "output_type": "execute_result"
    }
   ],
   "source": [
    "nums=[2,3,4,5,6,7,8,9] #if and else\n",
    "nums_10=[i if i>5 else 0 for i in nums] # List comprehension \n",
    "nums_10"
   ]
  },
  {
   "cell_type": "code",
   "execution_count": 66,
   "metadata": {},
   "outputs": [
    {
     "data": {
      "text/plain": [
       "{2: 12, 3: 13, 4: 14, 5: 15, 6: 16, 7: 17, 8: 18, 9: 19}"
      ]
     },
     "execution_count": 66,
     "metadata": {},
     "output_type": "execute_result"
    }
   ],
   "source": [
    "# Dict comprehension: Takes in key and value pairs:\n",
    "dictc={num:num+10 for num in nums}\n",
    "dictc"
   ]
  },
  {
   "cell_type": "markdown",
   "metadata": {},
   "source": [
    "### Generator and Generator functions"
   ]
  },
  {
   "cell_type": "code",
   "execution_count": 71,
   "metadata": {},
   "outputs": [
    {
     "name": "stdout",
     "output_type": "stream",
     "text": [
      "<class 'generator'>\n"
     ]
    },
    {
     "data": {
      "text/plain": [
       "1"
      ]
     },
     "execution_count": 71,
     "metadata": {},
     "output_type": "execute_result"
    }
   ],
   "source": [
    "num_gen=(n for n in range(10000000000000)) # Creates a generator object and does not store the values.\n",
    "print(type(num_gen))\n",
    "next(num_gen)\n",
    "next(num_gen)"
   ]
  },
  {
   "cell_type": "code",
   "execution_count": 80,
   "metadata": {},
   "outputs": [],
   "source": [
    "# Generator functions takes in yield instead of return\n",
    "def cool(b):\n",
    "    for l in b:\n",
    "        print(str(l))\n",
    "    yield l\n",
    "cools=cool([2,3,4,5])\n",
    "\n"
   ]
  },
  {
   "cell_type": "code",
   "execution_count": 81,
   "metadata": {},
   "outputs": [],
   "source": [
    "#Exercises:\n"
   ]
  },
  {
   "cell_type": "code",
   "execution_count": 84,
   "metadata": {},
   "outputs": [
    {
     "data": {
      "text/html": [
       "<div>\n",
       "<style scoped>\n",
       "    .dataframe tbody tr th:only-of-type {\n",
       "        vertical-align: middle;\n",
       "    }\n",
       "\n",
       "    .dataframe tbody tr th {\n",
       "        vertical-align: top;\n",
       "    }\n",
       "\n",
       "    .dataframe thead th {\n",
       "        text-align: right;\n",
       "    }\n",
       "</style>\n",
       "<table border=\"1\" class=\"dataframe\">\n",
       "  <thead>\n",
       "    <tr style=\"text-align: right;\">\n",
       "      <th></th>\n",
       "      <th>contributors</th>\n",
       "      <th>coordinates</th>\n",
       "      <th>created_at</th>\n",
       "      <th>entities</th>\n",
       "      <th>extended_entities</th>\n",
       "      <th>favorite_count</th>\n",
       "      <th>favorited</th>\n",
       "      <th>filter_level</th>\n",
       "      <th>geo</th>\n",
       "      <th>id</th>\n",
       "      <th>...</th>\n",
       "      <th>quoted_status_id</th>\n",
       "      <th>quoted_status_id_str</th>\n",
       "      <th>retweet_count</th>\n",
       "      <th>retweeted</th>\n",
       "      <th>retweeted_status</th>\n",
       "      <th>source</th>\n",
       "      <th>text</th>\n",
       "      <th>timestamp_ms</th>\n",
       "      <th>truncated</th>\n",
       "      <th>user</th>\n",
       "    </tr>\n",
       "  </thead>\n",
       "  <tbody>\n",
       "    <tr>\n",
       "      <th>0</th>\n",
       "      <td>NaN</td>\n",
       "      <td>NaN</td>\n",
       "      <td>Tue Mar 29 23:40:17 +0000 2016</td>\n",
       "      <td>{'hashtags': [], 'user_mentions': [{'screen_na...</td>\n",
       "      <td>{'media': [{'sizes': {'large': {'w': 1024, 'h'...</td>\n",
       "      <td>0</td>\n",
       "      <td>False</td>\n",
       "      <td>low</td>\n",
       "      <td>NaN</td>\n",
       "      <td>714960401759387648</td>\n",
       "      <td>...</td>\n",
       "      <td>NaN</td>\n",
       "      <td>NaN</td>\n",
       "      <td>0</td>\n",
       "      <td>False</td>\n",
       "      <td>{'retweeted': False, 'text': \".@krollbondratin...</td>\n",
       "      <td>&lt;a href=\"http://twitter.com\" rel=\"nofollow\"&gt;Tw...</td>\n",
       "      <td>RT @bpolitics: .@krollbondrating's Christopher...</td>\n",
       "      <td>1459294817758</td>\n",
       "      <td>False</td>\n",
       "      <td>{'utc_offset': 3600, 'profile_image_url_https'...</td>\n",
       "    </tr>\n",
       "    <tr>\n",
       "      <th>1</th>\n",
       "      <td>NaN</td>\n",
       "      <td>NaN</td>\n",
       "      <td>Tue Mar 29 23:40:17 +0000 2016</td>\n",
       "      <td>{'hashtags': [{'text': 'cruzsexscandal', 'indi...</td>\n",
       "      <td>{'media': [{'sizes': {'large': {'w': 500, 'h':...</td>\n",
       "      <td>0</td>\n",
       "      <td>False</td>\n",
       "      <td>low</td>\n",
       "      <td>NaN</td>\n",
       "      <td>714960401977319424</td>\n",
       "      <td>...</td>\n",
       "      <td>NaN</td>\n",
       "      <td>NaN</td>\n",
       "      <td>0</td>\n",
       "      <td>False</td>\n",
       "      <td>{'retweeted': False, 'text': '@dmartosko Cruz ...</td>\n",
       "      <td>&lt;a href=\"http://twitter.com\" rel=\"nofollow\"&gt;Tw...</td>\n",
       "      <td>RT @HeidiAlpine: @dmartosko Cruz video found.....</td>\n",
       "      <td>1459294817810</td>\n",
       "      <td>False</td>\n",
       "      <td>{'utc_offset': None, 'profile_image_url_https'...</td>\n",
       "    </tr>\n",
       "    <tr>\n",
       "      <th>2</th>\n",
       "      <td>NaN</td>\n",
       "      <td>NaN</td>\n",
       "      <td>Tue Mar 29 23:40:17 +0000 2016</td>\n",
       "      <td>{'hashtags': [], 'user_mentions': [], 'symbols...</td>\n",
       "      <td>NaN</td>\n",
       "      <td>0</td>\n",
       "      <td>False</td>\n",
       "      <td>low</td>\n",
       "      <td>NaN</td>\n",
       "      <td>714960402426236928</td>\n",
       "      <td>...</td>\n",
       "      <td>NaN</td>\n",
       "      <td>NaN</td>\n",
       "      <td>0</td>\n",
       "      <td>False</td>\n",
       "      <td>NaN</td>\n",
       "      <td>&lt;a href=\"http://www.facebook.com/twitter\" rel=...</td>\n",
       "      <td>Njihuni me Zonjën Trump !!! | Ekskluzive https...</td>\n",
       "      <td>1459294817917</td>\n",
       "      <td>False</td>\n",
       "      <td>{'utc_offset': 7200, 'profile_image_url_https'...</td>\n",
       "    </tr>\n",
       "    <tr>\n",
       "      <th>3</th>\n",
       "      <td>NaN</td>\n",
       "      <td>NaN</td>\n",
       "      <td>Tue Mar 29 23:40:17 +0000 2016</td>\n",
       "      <td>{'hashtags': [], 'user_mentions': [], 'symbols...</td>\n",
       "      <td>NaN</td>\n",
       "      <td>0</td>\n",
       "      <td>False</td>\n",
       "      <td>low</td>\n",
       "      <td>NaN</td>\n",
       "      <td>714960402367561730</td>\n",
       "      <td>...</td>\n",
       "      <td>7.149239e+17</td>\n",
       "      <td>7.149239e+17</td>\n",
       "      <td>0</td>\n",
       "      <td>False</td>\n",
       "      <td>NaN</td>\n",
       "      <td>&lt;a href=\"http://twitter.com/download/android\" ...</td>\n",
       "      <td>Your an idiot she shouldn't have tried to grab...</td>\n",
       "      <td>1459294817903</td>\n",
       "      <td>False</td>\n",
       "      <td>{'utc_offset': None, 'profile_image_url_https'...</td>\n",
       "    </tr>\n",
       "    <tr>\n",
       "      <th>4</th>\n",
       "      <td>NaN</td>\n",
       "      <td>NaN</td>\n",
       "      <td>Tue Mar 29 23:40:17 +0000 2016</td>\n",
       "      <td>{'hashtags': [], 'user_mentions': [{'screen_na...</td>\n",
       "      <td>NaN</td>\n",
       "      <td>0</td>\n",
       "      <td>False</td>\n",
       "      <td>low</td>\n",
       "      <td>NaN</td>\n",
       "      <td>714960402149416960</td>\n",
       "      <td>...</td>\n",
       "      <td>NaN</td>\n",
       "      <td>NaN</td>\n",
       "      <td>0</td>\n",
       "      <td>False</td>\n",
       "      <td>{'retweeted': False, 'text': 'The anti-America...</td>\n",
       "      <td>&lt;a href=\"http://twitter.com/download/iphone\" r...</td>\n",
       "      <td>RT @AlanLohner: The anti-American D.C. elites ...</td>\n",
       "      <td>1459294817851</td>\n",
       "      <td>False</td>\n",
       "      <td>{'utc_offset': -18000, 'profile_image_url_http...</td>\n",
       "    </tr>\n",
       "  </tbody>\n",
       "</table>\n",
       "<p>5 rows × 31 columns</p>\n",
       "</div>"
      ],
      "text/plain": [
       "   contributors  coordinates                      created_at  \\\n",
       "0           NaN          NaN  Tue Mar 29 23:40:17 +0000 2016   \n",
       "1           NaN          NaN  Tue Mar 29 23:40:17 +0000 2016   \n",
       "2           NaN          NaN  Tue Mar 29 23:40:17 +0000 2016   \n",
       "3           NaN          NaN  Tue Mar 29 23:40:17 +0000 2016   \n",
       "4           NaN          NaN  Tue Mar 29 23:40:17 +0000 2016   \n",
       "\n",
       "                                            entities  \\\n",
       "0  {'hashtags': [], 'user_mentions': [{'screen_na...   \n",
       "1  {'hashtags': [{'text': 'cruzsexscandal', 'indi...   \n",
       "2  {'hashtags': [], 'user_mentions': [], 'symbols...   \n",
       "3  {'hashtags': [], 'user_mentions': [], 'symbols...   \n",
       "4  {'hashtags': [], 'user_mentions': [{'screen_na...   \n",
       "\n",
       "                                   extended_entities  favorite_count  \\\n",
       "0  {'media': [{'sizes': {'large': {'w': 1024, 'h'...               0   \n",
       "1  {'media': [{'sizes': {'large': {'w': 500, 'h':...               0   \n",
       "2                                                NaN               0   \n",
       "3                                                NaN               0   \n",
       "4                                                NaN               0   \n",
       "\n",
       "   favorited filter_level  geo                  id  ...  quoted_status_id  \\\n",
       "0      False          low  NaN  714960401759387648  ...               NaN   \n",
       "1      False          low  NaN  714960401977319424  ...               NaN   \n",
       "2      False          low  NaN  714960402426236928  ...               NaN   \n",
       "3      False          low  NaN  714960402367561730  ...      7.149239e+17   \n",
       "4      False          low  NaN  714960402149416960  ...               NaN   \n",
       "\n",
       "  quoted_status_id_str  retweet_count  retweeted  \\\n",
       "0                  NaN              0      False   \n",
       "1                  NaN              0      False   \n",
       "2                  NaN              0      False   \n",
       "3         7.149239e+17              0      False   \n",
       "4                  NaN              0      False   \n",
       "\n",
       "                                    retweeted_status  \\\n",
       "0  {'retweeted': False, 'text': \".@krollbondratin...   \n",
       "1  {'retweeted': False, 'text': '@dmartosko Cruz ...   \n",
       "2                                                NaN   \n",
       "3                                                NaN   \n",
       "4  {'retweeted': False, 'text': 'The anti-America...   \n",
       "\n",
       "                                              source  \\\n",
       "0  <a href=\"http://twitter.com\" rel=\"nofollow\">Tw...   \n",
       "1  <a href=\"http://twitter.com\" rel=\"nofollow\">Tw...   \n",
       "2  <a href=\"http://www.facebook.com/twitter\" rel=...   \n",
       "3  <a href=\"http://twitter.com/download/android\" ...   \n",
       "4  <a href=\"http://twitter.com/download/iphone\" r...   \n",
       "\n",
       "                                                text   timestamp_ms truncated  \\\n",
       "0  RT @bpolitics: .@krollbondrating's Christopher...  1459294817758     False   \n",
       "1  RT @HeidiAlpine: @dmartosko Cruz video found.....  1459294817810     False   \n",
       "2  Njihuni me Zonjën Trump !!! | Ekskluzive https...  1459294817917     False   \n",
       "3  Your an idiot she shouldn't have tried to grab...  1459294817903     False   \n",
       "4  RT @AlanLohner: The anti-American D.C. elites ...  1459294817851     False   \n",
       "\n",
       "                                                user  \n",
       "0  {'utc_offset': 3600, 'profile_image_url_https'...  \n",
       "1  {'utc_offset': None, 'profile_image_url_https'...  \n",
       "2  {'utc_offset': 7200, 'profile_image_url_https'...  \n",
       "3  {'utc_offset': None, 'profile_image_url_https'...  \n",
       "4  {'utc_offset': -18000, 'profile_image_url_http...  \n",
       "\n",
       "[5 rows x 31 columns]"
      ]
     },
     "execution_count": 84,
     "metadata": {},
     "output_type": "execute_result"
    }
   ],
   "source": [
    "import pandas as pd\n",
    "tweets=pd.read_csv('Data/tweets.csv')\n",
    "tweets.head()"
   ]
  },
  {
   "cell_type": "code",
   "execution_count": 85,
   "metadata": {},
   "outputs": [
    {
     "name": "stdout",
     "output_type": "stream",
     "text": [
      "<class 'pandas.core.frame.DataFrame'>\n",
      "RangeIndex: 100 entries, 0 to 99\n",
      "Data columns (total 31 columns):\n",
      " #   Column                     Non-Null Count  Dtype  \n",
      "---  ------                     --------------  -----  \n",
      " 0   contributors               0 non-null      float64\n",
      " 1   coordinates                0 non-null      float64\n",
      " 2   created_at                 100 non-null    object \n",
      " 3   entities                   100 non-null    object \n",
      " 4   extended_entities          20 non-null     object \n",
      " 5   favorite_count             100 non-null    int64  \n",
      " 6   favorited                  100 non-null    bool   \n",
      " 7   filter_level               100 non-null    object \n",
      " 8   geo                        0 non-null      float64\n",
      " 9   id                         100 non-null    int64  \n",
      " 10  id_str                     100 non-null    int64  \n",
      " 11  in_reply_to_screen_name    11 non-null     object \n",
      " 12  in_reply_to_status_id      8 non-null      float64\n",
      " 13  in_reply_to_status_id_str  8 non-null      float64\n",
      " 14  in_reply_to_user_id        11 non-null     float64\n",
      " 15  in_reply_to_user_id_str    11 non-null     float64\n",
      " 16  is_quote_status            100 non-null    bool   \n",
      " 17  lang                       100 non-null    object \n",
      " 18  place                      3 non-null      object \n",
      " 19  possibly_sensitive         72 non-null     object \n",
      " 20  quoted_status              14 non-null     object \n",
      " 21  quoted_status_id           14 non-null     float64\n",
      " 22  quoted_status_id_str       14 non-null     float64\n",
      " 23  retweet_count              100 non-null    int64  \n",
      " 24  retweeted                  100 non-null    bool   \n",
      " 25  retweeted_status           62 non-null     object \n",
      " 26  source                     100 non-null    object \n",
      " 27  text                       100 non-null    object \n",
      " 28  timestamp_ms               100 non-null    int64  \n",
      " 29  truncated                  100 non-null    bool   \n",
      " 30  user                       100 non-null    object \n",
      "dtypes: bool(4), float64(9), int64(5), object(13)\n",
      "memory usage: 21.6+ KB\n"
     ]
    }
   ],
   "source": [
    "tweets.info()"
   ]
  },
  {
   "cell_type": "code",
   "execution_count": 91,
   "metadata": {},
   "outputs": [
    {
     "data": {
      "text/plain": [
       "['23:40:17',\n",
       " '23:40:17',\n",
       " '23:40:17',\n",
       " '23:40:17',\n",
       " '23:40:17',\n",
       " '23:40:17',\n",
       " '23:40:18',\n",
       " '23:40:17',\n",
       " '23:40:18',\n",
       " '23:40:18',\n",
       " '23:40:18',\n",
       " '23:40:17',\n",
       " '23:40:18',\n",
       " '23:40:18',\n",
       " '23:40:17',\n",
       " '23:40:18',\n",
       " '23:40:18',\n",
       " '23:40:17',\n",
       " '23:40:18',\n",
       " '23:40:17',\n",
       " '23:40:18',\n",
       " '23:40:18',\n",
       " '23:40:18',\n",
       " '23:40:18',\n",
       " '23:40:17',\n",
       " '23:40:18',\n",
       " '23:40:18',\n",
       " '23:40:17',\n",
       " '23:40:18',\n",
       " '23:40:18',\n",
       " '23:40:18',\n",
       " '23:40:18',\n",
       " '23:40:18',\n",
       " '23:40:18',\n",
       " '23:40:18',\n",
       " '23:40:18',\n",
       " '23:40:18',\n",
       " '23:40:18',\n",
       " '23:40:18',\n",
       " '23:40:18',\n",
       " '23:40:18',\n",
       " '23:40:18',\n",
       " '23:40:18',\n",
       " '23:40:18',\n",
       " '23:40:18',\n",
       " '23:40:18',\n",
       " '23:40:18',\n",
       " '23:40:18',\n",
       " '23:40:18',\n",
       " '23:40:18',\n",
       " '23:40:18',\n",
       " '23:40:18',\n",
       " '23:40:18',\n",
       " '23:40:18',\n",
       " '23:40:18',\n",
       " '23:40:18',\n",
       " '23:40:18',\n",
       " '23:40:18',\n",
       " '23:40:18',\n",
       " '23:40:18',\n",
       " '23:40:19',\n",
       " '23:40:18',\n",
       " '23:40:18',\n",
       " '23:40:18',\n",
       " '23:40:19',\n",
       " '23:40:19',\n",
       " '23:40:19',\n",
       " '23:40:18',\n",
       " '23:40:19',\n",
       " '23:40:19',\n",
       " '23:40:19',\n",
       " '23:40:18',\n",
       " '23:40:19',\n",
       " '23:40:19',\n",
       " '23:40:19',\n",
       " '23:40:18',\n",
       " '23:40:19',\n",
       " '23:40:19',\n",
       " '23:40:19',\n",
       " '23:40:19',\n",
       " '23:40:19',\n",
       " '23:40:19',\n",
       " '23:40:19',\n",
       " '23:40:19',\n",
       " '23:40:19',\n",
       " '23:40:19',\n",
       " '23:40:19',\n",
       " '23:40:19',\n",
       " '23:40:19',\n",
       " '23:40:19',\n",
       " '23:40:19',\n",
       " '23:40:19',\n",
       " '23:40:19',\n",
       " '23:40:19',\n",
       " '23:40:19',\n",
       " '23:40:19',\n",
       " '23:40:19',\n",
       " '23:40:19',\n",
       " '23:40:19',\n",
       " '23:40:19']"
      ]
     },
     "execution_count": 91,
     "metadata": {},
     "output_type": "execute_result"
    }
   ],
   "source": [
    "# Getting the timestamps\n",
    "created_at=tweets['created_at']\n",
    "listing=[entry[11:19] for entry in created_at]\n",
    "listing"
   ]
  },
  {
   "cell_type": "code",
   "execution_count": null,
   "metadata": {},
   "outputs": [],
   "source": []
  }
 ],
 "metadata": {
  "kernelspec": {
   "display_name": "Python 3",
   "language": "python",
   "name": "python3"
  },
  "language_info": {
   "codemirror_mode": {
    "name": "ipython",
    "version": 3
   },
   "file_extension": ".py",
   "mimetype": "text/x-python",
   "name": "python",
   "nbconvert_exporter": "python",
   "pygments_lexer": "ipython3",
   "version": "3.8.3"
  }
 },
 "nbformat": 4,
 "nbformat_minor": 4
}
